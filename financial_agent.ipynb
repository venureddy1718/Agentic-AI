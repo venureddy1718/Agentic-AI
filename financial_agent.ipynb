{
 "cells": [
  {
   "cell_type": "code",
   "execution_count": 1,
   "id": "f9c79191",
   "metadata": {},
   "outputs": [
    {
     "name": "stdout",
     "output_type": "stream",
     "text": [
      "Requirement already satisfied: phidata in c:\\users\\anrut\\appdata\\local\\programs\\python\\python39\\lib\\site-packages (2.7.10)\n",
      "Requirement already satisfied: typer in c:\\users\\anrut\\appdata\\local\\programs\\python\\python39\\lib\\site-packages (from phidata) (0.15.1)\n",
      "Requirement already satisfied: typing-extensions in c:\\users\\anrut\\appdata\\local\\programs\\python\\python39\\lib\\site-packages (from phidata) (4.12.2)\n",
      "Requirement already satisfied: python-dotenv in c:\\users\\anrut\\appdata\\local\\programs\\python\\python39\\lib\\site-packages (from phidata) (1.0.1)\n",
      "Requirement already satisfied: tomli in c:\\users\\anrut\\appdata\\local\\programs\\python\\python39\\lib\\site-packages (from phidata) (2.2.1)\n",
      "Requirement already satisfied: rich in c:\\users\\anrut\\appdata\\local\\programs\\python\\python39\\lib\\site-packages (from phidata) (13.9.4)\n",
      "Requirement already satisfied: pydantic-settings in c:\\users\\anrut\\appdata\\local\\programs\\python\\python39\\lib\\site-packages (from phidata) (2.8.0)\n",
      "Requirement already satisfied: pydantic in c:\\users\\anrut\\appdata\\local\\programs\\python\\python39\\lib\\site-packages (from phidata) (2.10.1)\n",
      "Requirement already satisfied: gitpython in c:\\users\\anrut\\appdata\\local\\programs\\python\\python39\\lib\\site-packages (from phidata) (3.1.44)\n",
      "Requirement already satisfied: httpx in c:\\users\\anrut\\appdata\\local\\programs\\python\\python39\\lib\\site-packages (from phidata) (0.28.1)\n",
      "Requirement already satisfied: docstring-parser in c:\\users\\anrut\\appdata\\local\\programs\\python\\python39\\lib\\site-packages (from phidata) (0.16)\n",
      "Requirement already satisfied: pyyaml in c:\\users\\anrut\\appdata\\local\\programs\\python\\python39\\lib\\site-packages (from phidata) (6.0.2)\n",
      "Requirement already satisfied: gitdb<5,>=4.0.1 in c:\\users\\anrut\\appdata\\local\\programs\\python\\python39\\lib\\site-packages (from gitpython->phidata) (4.0.12)\n",
      "Requirement already satisfied: certifi in c:\\users\\anrut\\appdata\\local\\programs\\python\\python39\\lib\\site-packages (from httpx->phidata) (2024.8.30)\n",
      "Requirement already satisfied: httpcore==1.* in c:\\users\\anrut\\appdata\\local\\programs\\python\\python39\\lib\\site-packages (from httpx->phidata) (1.0.7)\n",
      "Requirement already satisfied: anyio in c:\\users\\anrut\\appdata\\local\\programs\\python\\python39\\lib\\site-packages (from httpx->phidata) (4.6.2.post1)\n",
      "Requirement already satisfied: idna in c:\\users\\anrut\\appdata\\local\\programs\\python\\python39\\lib\\site-packages (from httpx->phidata) (3.10)\n",
      "Requirement already satisfied: h11<0.15,>=0.13 in c:\\users\\anrut\\appdata\\local\\programs\\python\\python39\\lib\\site-packages (from httpcore==1.*->httpx->phidata) (0.14.0)\n",
      "Requirement already satisfied: annotated-types>=0.6.0 in c:\\users\\anrut\\appdata\\local\\programs\\python\\python39\\lib\\site-packages (from pydantic->phidata) (0.7.0)\n",
      "Requirement already satisfied: pydantic-core==2.27.1 in c:\\users\\anrut\\appdata\\local\\programs\\python\\python39\\lib\\site-packages (from pydantic->phidata) (2.27.1)\n",
      "Requirement already satisfied: pygments<3.0.0,>=2.13.0 in c:\\users\\anrut\\appdata\\local\\programs\\python\\python39\\lib\\site-packages (from rich->phidata) (2.19.1)\n",
      "Requirement already satisfied: markdown-it-py>=2.2.0 in c:\\users\\anrut\\appdata\\local\\programs\\python\\python39\\lib\\site-packages (from rich->phidata) (3.0.0)\n",
      "Requirement already satisfied: click>=8.0.0 in c:\\users\\anrut\\appdata\\local\\programs\\python\\python39\\lib\\site-packages (from typer->phidata) (8.1.8)\n",
      "Requirement already satisfied: shellingham>=1.3.0 in c:\\users\\anrut\\appdata\\local\\programs\\python\\python39\\lib\\site-packages (from typer->phidata) (1.5.4)\n",
      "Requirement already satisfied: colorama in c:\\users\\anrut\\appdata\\local\\programs\\python\\python39\\lib\\site-packages (from click>=8.0.0->typer->phidata) (0.4.6)\n",
      "Requirement already satisfied: smmap<6,>=3.0.1 in c:\\users\\anrut\\appdata\\local\\programs\\python\\python39\\lib\\site-packages (from gitdb<5,>=4.0.1->gitpython->phidata) (5.0.2)\n",
      "Requirement already satisfied: mdurl~=0.1 in c:\\users\\anrut\\appdata\\local\\programs\\python\\python39\\lib\\site-packages (from markdown-it-py>=2.2.0->rich->phidata) (0.1.2)\n",
      "Requirement already satisfied: exceptiongroup>=1.0.2 in c:\\users\\anrut\\appdata\\local\\programs\\python\\python39\\lib\\site-packages (from anyio->httpx->phidata) (1.2.2)\n",
      "Requirement already satisfied: sniffio>=1.1 in c:\\users\\anrut\\appdata\\local\\programs\\python\\python39\\lib\\site-packages (from anyio->httpx->phidata) (1.3.1)\n",
      "Note: you may need to restart the kernel to use updated packages.\n"
     ]
    },
    {
     "name": "stderr",
     "output_type": "stream",
     "text": [
      "WARNING: You are using pip version 22.0.4; however, version 25.0.1 is available.\n",
      "You should consider upgrading via the 'C:\\Users\\anrut\\AppData\\Local\\Programs\\Python\\Python39\\python.exe -m pip install --upgrade pip' command.\n"
     ]
    }
   ],
   "source": [
    "pip install -U phidata"
   ]
  },
  {
   "cell_type": "code",
   "execution_count": 2,
   "id": "d313697d",
   "metadata": {},
   "outputs": [
    {
     "name": "stdout",
     "output_type": "stream",
     "text": [
      "Requirement already satisfied: groq in c:\\users\\anrut\\appdata\\local\\programs\\python\\python39\\lib\\site-packages (0.18.0)\n",
      "Requirement already satisfied: sniffio in c:\\users\\anrut\\appdata\\local\\programs\\python\\python39\\lib\\site-packages (from groq) (1.3.1)\n",
      "Requirement already satisfied: typing-extensions<5,>=4.10 in c:\\users\\anrut\\appdata\\local\\programs\\python\\python39\\lib\\site-packages (from groq) (4.12.2)\n",
      "Requirement already satisfied: httpx<1,>=0.23.0 in c:\\users\\anrut\\appdata\\local\\programs\\python\\python39\\lib\\site-packages (from groq) (0.28.1)\n",
      "Requirement already satisfied: pydantic<3,>=1.9.0 in c:\\users\\anrut\\appdata\\local\\programs\\python\\python39\\lib\\site-packages (from groq) (2.10.1)\n",
      "Requirement already satisfied: anyio<5,>=3.5.0 in c:\\users\\anrut\\appdata\\local\\programs\\python\\python39\\lib\\site-packages (from groq) (4.6.2.post1)\n",
      "Requirement already satisfied: distro<2,>=1.7.0 in c:\\users\\anrut\\appdata\\local\\programs\\python\\python39\\lib\\site-packages (from groq) (1.9.0)\n",
      "Requirement already satisfied: idna>=2.8 in c:\\users\\anrut\\appdata\\local\\programs\\python\\python39\\lib\\site-packages (from anyio<5,>=3.5.0->groq) (3.10)\n",
      "Requirement already satisfied: exceptiongroup>=1.0.2 in c:\\users\\anrut\\appdata\\local\\programs\\python\\python39\\lib\\site-packages (from anyio<5,>=3.5.0->groq) (1.2.2)\n",
      "Requirement already satisfied: certifi in c:\\users\\anrut\\appdata\\local\\programs\\python\\python39\\lib\\site-packages (from httpx<1,>=0.23.0->groq) (2024.8.30)\n",
      "Requirement already satisfied: httpcore==1.* in c:\\users\\anrut\\appdata\\local\\programs\\python\\python39\\lib\\site-packages (from httpx<1,>=0.23.0->groq) (1.0.7)\n",
      "Requirement already satisfied: h11<0.15,>=0.13 in c:\\users\\anrut\\appdata\\local\\programs\\python\\python39\\lib\\site-packages (from httpcore==1.*->httpx<1,>=0.23.0->groq) (0.14.0)\n",
      "Requirement already satisfied: annotated-types>=0.6.0 in c:\\users\\anrut\\appdata\\local\\programs\\python\\python39\\lib\\site-packages (from pydantic<3,>=1.9.0->groq) (0.7.0)\n",
      "Requirement already satisfied: pydantic-core==2.27.1 in c:\\users\\anrut\\appdata\\local\\programs\\python\\python39\\lib\\site-packages (from pydantic<3,>=1.9.0->groq) (2.27.1)\n",
      "Note: you may need to restart the kernel to use updated packages.\n"
     ]
    },
    {
     "name": "stderr",
     "output_type": "stream",
     "text": [
      "WARNING: You are using pip version 22.0.4; however, version 25.0.1 is available.\n",
      "You should consider upgrading via the 'C:\\Users\\anrut\\AppData\\Local\\Programs\\Python\\Python39\\python.exe -m pip install --upgrade pip' command.\n"
     ]
    }
   ],
   "source": [
    "pip install groq"
   ]
  },
  {
   "cell_type": "code",
   "execution_count": 3,
   "id": "ee63d8f2",
   "metadata": {},
   "outputs": [
    {
     "name": "stdout",
     "output_type": "stream",
     "text": [
      "Requirement already satisfied: yfinance in c:\\users\\anrut\\appdata\\local\\programs\\python\\python39\\lib\\site-packages (0.2.54)\n",
      "Requirement already satisfied: numpy>=1.16.5 in c:\\users\\anrut\\appdata\\local\\programs\\python\\python39\\lib\\site-packages (from yfinance) (2.0.2)\n",
      "Requirement already satisfied: pytz>=2022.5 in c:\\users\\anrut\\appdata\\local\\programs\\python\\python39\\lib\\site-packages (from yfinance) (2025.1)\n",
      "Requirement already satisfied: pandas>=1.3.0 in c:\\users\\anrut\\appdata\\local\\programs\\python\\python39\\lib\\site-packages (from yfinance) (2.2.3)\n",
      "Requirement already satisfied: multitasking>=0.0.7 in c:\\users\\anrut\\appdata\\local\\programs\\python\\python39\\lib\\site-packages (from yfinance) (0.0.11)\n",
      "Requirement already satisfied: peewee>=3.16.2 in c:\\users\\anrut\\appdata\\local\\programs\\python\\python39\\lib\\site-packages (from yfinance) (3.17.9)\n",
      "Requirement already satisfied: requests>=2.31 in c:\\users\\anrut\\appdata\\local\\programs\\python\\python39\\lib\\site-packages (from yfinance) (2.32.3)\n",
      "Requirement already satisfied: platformdirs>=2.0.0 in c:\\users\\anrut\\appdata\\local\\programs\\python\\python39\\lib\\site-packages (from yfinance) (4.3.6)\n",
      "Requirement already satisfied: frozendict>=2.3.4 in c:\\users\\anrut\\appdata\\local\\programs\\python\\python39\\lib\\site-packages (from yfinance) (2.4.6)\n",
      "Requirement already satisfied: beautifulsoup4>=4.11.1 in c:\\users\\anrut\\appdata\\local\\programs\\python\\python39\\lib\\site-packages (from yfinance) (4.13.3)\n",
      "Requirement already satisfied: soupsieve>1.2 in c:\\users\\anrut\\appdata\\local\\programs\\python\\python39\\lib\\site-packages (from beautifulsoup4>=4.11.1->yfinance) (2.6)\n",
      "Requirement already satisfied: typing-extensions>=4.0.0 in c:\\users\\anrut\\appdata\\local\\programs\\python\\python39\\lib\\site-packages (from beautifulsoup4>=4.11.1->yfinance) (4.12.2)\n",
      "Requirement already satisfied: python-dateutil>=2.8.2 in c:\\users\\anrut\\appdata\\local\\programs\\python\\python39\\lib\\site-packages (from pandas>=1.3.0->yfinance) (2.9.0.post0)\n",
      "Requirement already satisfied: tzdata>=2022.7 in c:\\users\\anrut\\appdata\\local\\programs\\python\\python39\\lib\\site-packages (from pandas>=1.3.0->yfinance) (2025.1)\n",
      "Requirement already satisfied: idna<4,>=2.5 in c:\\users\\anrut\\appdata\\local\\programs\\python\\python39\\lib\\site-packages (from requests>=2.31->yfinance) (3.10)\n",
      "Requirement already satisfied: urllib3<3,>=1.21.1 in c:\\users\\anrut\\appdata\\local\\programs\\python\\python39\\lib\\site-packages (from requests>=2.31->yfinance) (2.2.3)\n",
      "Requirement already satisfied: charset-normalizer<4,>=2 in c:\\users\\anrut\\appdata\\local\\programs\\python\\python39\\lib\\site-packages (from requests>=2.31->yfinance) (3.4.0)\n",
      "Requirement already satisfied: certifi>=2017.4.17 in c:\\users\\anrut\\appdata\\local\\programs\\python\\python39\\lib\\site-packages (from requests>=2.31->yfinance) (2024.8.30)\n",
      "Requirement already satisfied: six>=1.5 in c:\\users\\anrut\\appdata\\local\\programs\\python\\python39\\lib\\site-packages (from python-dateutil>=2.8.2->pandas>=1.3.0->yfinance) (1.17.0)\n",
      "Note: you may need to restart the kernel to use updated packages.\n"
     ]
    },
    {
     "name": "stderr",
     "output_type": "stream",
     "text": [
      "WARNING: You are using pip version 22.0.4; however, version 25.0.1 is available.\n",
      "You should consider upgrading via the 'C:\\Users\\anrut\\AppData\\Local\\Programs\\Python\\Python39\\python.exe -m pip install --upgrade pip' command.\n"
     ]
    }
   ],
   "source": [
    "pip install yfinance\n"
   ]
  },
  {
   "cell_type": "code",
   "execution_count": 4,
   "id": "b971796a",
   "metadata": {},
   "outputs": [
    {
     "name": "stdout",
     "output_type": "stream",
     "text": [
      "Requirement already satisfied: openai in c:\\users\\anrut\\appdata\\local\\programs\\python\\python39\\lib\\site-packages (1.64.0)\n",
      "Requirement already satisfied: distro<2,>=1.7.0 in c:\\users\\anrut\\appdata\\local\\programs\\python\\python39\\lib\\site-packages (from openai) (1.9.0)\n",
      "Requirement already satisfied: httpx<1,>=0.23.0 in c:\\users\\anrut\\appdata\\local\\programs\\python\\python39\\lib\\site-packages (from openai) (0.28.1)\n",
      "Requirement already satisfied: sniffio in c:\\users\\anrut\\appdata\\local\\programs\\python\\python39\\lib\\site-packages (from openai) (1.3.1)\n",
      "Requirement already satisfied: anyio<5,>=3.5.0 in c:\\users\\anrut\\appdata\\local\\programs\\python\\python39\\lib\\site-packages (from openai) (4.6.2.post1)\n",
      "Requirement already satisfied: tqdm>4 in c:\\users\\anrut\\appdata\\local\\programs\\python\\python39\\lib\\site-packages (from openai) (4.67.0)\n",
      "Requirement already satisfied: jiter<1,>=0.4.0 in c:\\users\\anrut\\appdata\\local\\programs\\python\\python39\\lib\\site-packages (from openai) (0.8.2)\n",
      "Requirement already satisfied: pydantic<3,>=1.9.0 in c:\\users\\anrut\\appdata\\local\\programs\\python\\python39\\lib\\site-packages (from openai) (2.10.1)\n",
      "Requirement already satisfied: typing-extensions<5,>=4.11 in c:\\users\\anrut\\appdata\\local\\programs\\python\\python39\\lib\\site-packages (from openai) (4.12.2)\n",
      "Requirement already satisfied: idna>=2.8 in c:\\users\\anrut\\appdata\\local\\programs\\python\\python39\\lib\\site-packages (from anyio<5,>=3.5.0->openai) (3.10)\n",
      "Requirement already satisfied: exceptiongroup>=1.0.2 in c:\\users\\anrut\\appdata\\local\\programs\\python\\python39\\lib\\site-packages (from anyio<5,>=3.5.0->openai) (1.2.2)\n",
      "Requirement already satisfied: httpcore==1.* in c:\\users\\anrut\\appdata\\local\\programs\\python\\python39\\lib\\site-packages (from httpx<1,>=0.23.0->openai) (1.0.7)\n",
      "Requirement already satisfied: certifi in c:\\users\\anrut\\appdata\\local\\programs\\python\\python39\\lib\\site-packages (from httpx<1,>=0.23.0->openai) (2024.8.30)\n",
      "Requirement already satisfied: h11<0.15,>=0.13 in c:\\users\\anrut\\appdata\\local\\programs\\python\\python39\\lib\\site-packages (from httpcore==1.*->httpx<1,>=0.23.0->openai) (0.14.0)\n",
      "Requirement already satisfied: pydantic-core==2.27.1 in c:\\users\\anrut\\appdata\\local\\programs\\python\\python39\\lib\\site-packages (from pydantic<3,>=1.9.0->openai) (2.27.1)\n",
      "Requirement already satisfied: annotated-types>=0.6.0 in c:\\users\\anrut\\appdata\\local\\programs\\python\\python39\\lib\\site-packages (from pydantic<3,>=1.9.0->openai) (0.7.0)\n",
      "Requirement already satisfied: colorama in c:\\users\\anrut\\appdata\\local\\programs\\python\\python39\\lib\\site-packages (from tqdm>4->openai) (0.4.6)\n",
      "Note: you may need to restart the kernel to use updated packages.\n"
     ]
    },
    {
     "name": "stderr",
     "output_type": "stream",
     "text": [
      "WARNING: You are using pip version 22.0.4; however, version 25.0.1 is available.\n",
      "You should consider upgrading via the 'C:\\Users\\anrut\\AppData\\Local\\Programs\\Python\\Python39\\python.exe -m pip install --upgrade pip' command.\n"
     ]
    }
   ],
   "source": [
    "pip install openai"
   ]
  },
  {
   "cell_type": "code",
   "execution_count": 5,
   "id": "da3f323d",
   "metadata": {},
   "outputs": [
    {
     "name": "stdout",
     "output_type": "stream",
     "text": [
      "Requirement already satisfied: phidata in c:\\users\\anrut\\appdata\\local\\programs\\python\\python39\\lib\\site-packages (2.7.10)\n",
      "Requirement already satisfied: openai in c:\\users\\anrut\\appdata\\local\\programs\\python\\python39\\lib\\site-packages (1.64.0)\n",
      "Collecting openai\n",
      "  Downloading openai-1.65.1-py3-none-any.whl (472 kB)\n",
      "     -------------------------------------- 472.8/472.8 KB 1.4 MB/s eta 0:00:00\n",
      "Requirement already satisfied: duckduckgo-search in c:\\users\\anrut\\appdata\\local\\programs\\python\\python39\\lib\\site-packages (7.5.0)\n",
      "Requirement already satisfied: rich in c:\\users\\anrut\\appdata\\local\\programs\\python\\python39\\lib\\site-packages (from phidata) (13.9.4)\n",
      "Requirement already satisfied: httpx in c:\\users\\anrut\\appdata\\local\\programs\\python\\python39\\lib\\site-packages (from phidata) (0.28.1)\n",
      "Requirement already satisfied: python-dotenv in c:\\users\\anrut\\appdata\\local\\programs\\python\\python39\\lib\\site-packages (from phidata) (1.0.1)\n",
      "Requirement already satisfied: pydantic in c:\\users\\anrut\\appdata\\local\\programs\\python\\python39\\lib\\site-packages (from phidata) (2.10.1)\n",
      "Requirement already satisfied: pyyaml in c:\\users\\anrut\\appdata\\local\\programs\\python\\python39\\lib\\site-packages (from phidata) (6.0.2)\n",
      "Requirement already satisfied: gitpython in c:\\users\\anrut\\appdata\\local\\programs\\python\\python39\\lib\\site-packages (from phidata) (3.1.44)\n",
      "Requirement already satisfied: typing-extensions in c:\\users\\anrut\\appdata\\local\\programs\\python\\python39\\lib\\site-packages (from phidata) (4.12.2)\n",
      "Requirement already satisfied: tomli in c:\\users\\anrut\\appdata\\local\\programs\\python\\python39\\lib\\site-packages (from phidata) (2.2.1)\n",
      "Requirement already satisfied: docstring-parser in c:\\users\\anrut\\appdata\\local\\programs\\python\\python39\\lib\\site-packages (from phidata) (0.16)\n",
      "Requirement already satisfied: pydantic-settings in c:\\users\\anrut\\appdata\\local\\programs\\python\\python39\\lib\\site-packages (from phidata) (2.8.0)\n",
      "Requirement already satisfied: typer in c:\\users\\anrut\\appdata\\local\\programs\\python\\python39\\lib\\site-packages (from phidata) (0.15.1)\n",
      "Requirement already satisfied: anyio<5,>=3.5.0 in c:\\users\\anrut\\appdata\\local\\programs\\python\\python39\\lib\\site-packages (from openai) (4.6.2.post1)\n",
      "Requirement already satisfied: jiter<1,>=0.4.0 in c:\\users\\anrut\\appdata\\local\\programs\\python\\python39\\lib\\site-packages (from openai) (0.8.2)\n",
      "Requirement already satisfied: sniffio in c:\\users\\anrut\\appdata\\local\\programs\\python\\python39\\lib\\site-packages (from openai) (1.3.1)\n",
      "Requirement already satisfied: distro<2,>=1.7.0 in c:\\users\\anrut\\appdata\\local\\programs\\python\\python39\\lib\\site-packages (from openai) (1.9.0)\n",
      "Requirement already satisfied: tqdm>4 in c:\\users\\anrut\\appdata\\local\\programs\\python\\python39\\lib\\site-packages (from openai) (4.67.0)\n",
      "Requirement already satisfied: primp>=0.14.0 in c:\\users\\anrut\\appdata\\local\\programs\\python\\python39\\lib\\site-packages (from duckduckgo-search) (0.14.0)\n",
      "Requirement already satisfied: click>=8.1.8 in c:\\users\\anrut\\appdata\\local\\programs\\python\\python39\\lib\\site-packages (from duckduckgo-search) (8.1.8)\n",
      "Requirement already satisfied: lxml>=5.3.0 in c:\\users\\anrut\\appdata\\local\\programs\\python\\python39\\lib\\site-packages (from duckduckgo-search) (5.3.1)\n",
      "Requirement already satisfied: idna>=2.8 in c:\\users\\anrut\\appdata\\local\\programs\\python\\python39\\lib\\site-packages (from anyio<5,>=3.5.0->openai) (3.10)\n",
      "Requirement already satisfied: exceptiongroup>=1.0.2 in c:\\users\\anrut\\appdata\\local\\programs\\python\\python39\\lib\\site-packages (from anyio<5,>=3.5.0->openai) (1.2.2)\n",
      "Requirement already satisfied: colorama in c:\\users\\anrut\\appdata\\local\\programs\\python\\python39\\lib\\site-packages (from click>=8.1.8->duckduckgo-search) (0.4.6)\n",
      "Requirement already satisfied: certifi in c:\\users\\anrut\\appdata\\local\\programs\\python\\python39\\lib\\site-packages (from httpx->phidata) (2024.8.30)\n",
      "Requirement already satisfied: httpcore==1.* in c:\\users\\anrut\\appdata\\local\\programs\\python\\python39\\lib\\site-packages (from httpx->phidata) (1.0.7)\n",
      "Requirement already satisfied: h11<0.15,>=0.13 in c:\\users\\anrut\\appdata\\local\\programs\\python\\python39\\lib\\site-packages (from httpcore==1.*->httpx->phidata) (0.14.0)\n",
      "Requirement already satisfied: pydantic-core==2.27.1 in c:\\users\\anrut\\appdata\\local\\programs\\python\\python39\\lib\\site-packages (from pydantic->phidata) (2.27.1)\n",
      "Requirement already satisfied: annotated-types>=0.6.0 in c:\\users\\anrut\\appdata\\local\\programs\\python\\python39\\lib\\site-packages (from pydantic->phidata) (0.7.0)\n",
      "Requirement already satisfied: gitdb<5,>=4.0.1 in c:\\users\\anrut\\appdata\\local\\programs\\python\\python39\\lib\\site-packages (from gitpython->phidata) (4.0.12)\n",
      "Requirement already satisfied: markdown-it-py>=2.2.0 in c:\\users\\anrut\\appdata\\local\\programs\\python\\python39\\lib\\site-packages (from rich->phidata) (3.0.0)\n",
      "Requirement already satisfied: pygments<3.0.0,>=2.13.0 in c:\\users\\anrut\\appdata\\local\\programs\\python\\python39\\lib\\site-packages (from rich->phidata) (2.19.1)\n",
      "Requirement already satisfied: shellingham>=1.3.0 in c:\\users\\anrut\\appdata\\local\\programs\\python\\python39\\lib\\site-packages (from typer->phidata) (1.5.4)\n",
      "Requirement already satisfied: smmap<6,>=3.0.1 in c:\\users\\anrut\\appdata\\local\\programs\\python\\python39\\lib\\site-packages (from gitdb<5,>=4.0.1->gitpython->phidata) (5.0.2)\n",
      "Requirement already satisfied: mdurl~=0.1 in c:\\users\\anrut\\appdata\\local\\programs\\python\\python39\\lib\\site-packages (from markdown-it-py>=2.2.0->rich->phidata) (0.1.2)\n",
      "Installing collected packages: openai\n",
      "  Attempting uninstall: openai\n",
      "    Found existing installation: openai 1.64.0\n",
      "    Uninstalling openai-1.64.0:\n",
      "      Successfully uninstalled openai-1.64.0\n",
      "Successfully installed openai-1.65.1\n",
      "Note: you may need to restart the kernel to use updated packages.\n"
     ]
    },
    {
     "name": "stderr",
     "output_type": "stream",
     "text": [
      "WARNING: You are using pip version 22.0.4; however, version 25.0.1 is available.\n",
      "You should consider upgrading via the 'C:\\Users\\anrut\\AppData\\Local\\Programs\\Python\\Python39\\python.exe -m pip install --upgrade pip' command.\n"
     ]
    }
   ],
   "source": [
    "pip install -U phidata openai duckduckgo-search"
   ]
  },
  {
   "cell_type": "code",
   "execution_count": 6,
   "id": "d2ff2102",
   "metadata": {},
   "outputs": [],
   "source": [
    "import yfinance as yf"
   ]
  },
  {
   "cell_type": "code",
   "execution_count": 7,
   "id": "e37e1f40",
   "metadata": {},
   "outputs": [],
   "source": [
    "from phi.agent import Agent\n",
    "from phi.model.groq import Groq\n"
   ]
  },
  {
   "cell_type": "code",
   "execution_count": 8,
   "id": "9b2c7bec",
   "metadata": {},
   "outputs": [],
   "source": [
    "from phi.tools.yfinance import YFinanceTools"
   ]
  },
  {
   "cell_type": "code",
   "execution_count": 9,
   "id": "f66739e2",
   "metadata": {},
   "outputs": [],
   "source": [
    "from phi.tools.duckduckgo import DuckDuckGo"
   ]
  },
  {
   "cell_type": "code",
   "execution_count": 10,
   "id": "bdb6dd04",
   "metadata": {},
   "outputs": [],
   "source": [
    "agent1=Agent(\n",
    "name=\"Web Search Agent\",\n",
    "role=\"Search the web for information\",\n",
    "model=Groq(id=\"llama3-groq-70b-8192-tool-use-preview\"),\n",
    "tools=[DuckDuckGo()],\n",
    "instructions=[\"Alway include sources\"],\n",
    "show_tools_calls=True,\n",
    "markdown=True)"
   ]
  },
  {
   "cell_type": "code",
   "execution_count": 11,
   "id": "cd3bd45c",
   "metadata": {},
   "outputs": [],
   "source": [
    "# Financial Agent\n",
    "finance_agent = Agent(\n",
    "    name=\"Finance AI Agent\",\n",
    "    model=Groq(id=\"llama3-groq-70b-8192-tool-use-preview\"),\n",
    "    tools=[\n",
    "        YFinanceTools(\n",
    "            stock_price=True,\n",
    "            analyst_recommendations=True,\n",
    "            stock_fundamentals=True,\n",
    "            company_news=True  \n",
    "        )\n",
    "    ],\n",
    "    instructions=[\"Use tables to display the data\"],\n",
    "    show_tool_calls=True,\n",
    "    markdown=True\n",
    ")"
   ]
  },
  {
   "cell_type": "code",
   "execution_count": 12,
   "id": "e92f8f13",
   "metadata": {},
   "outputs": [],
   "source": [
    "multi_ai_agent=Agent(team=[agent1,finance_agent],\n",
    "                     instructions=[\"Always include sources\",\"Use tables to display the data\"],\n",
    "                    show_tool_calls=True,\n",
    "                    markdown=True)"
   ]
  },
  {
   "cell_type": "code",
   "execution_count": 13,
   "id": "ae312048",
   "metadata": {},
   "outputs": [
    {
     "name": "stdout",
     "output_type": "stream",
     "text": [
      "\n",
      "SUCCESS: Specified value was saved.\n"
     ]
    }
   ],
   "source": [
    "!SETX GROO_API_KEY \"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\""
   ]
  },
  {
   "cell_type": "code",
   "execution_count": 14,
   "id": "68020e89",
   "metadata": {},
   "outputs": [
    {
     "name": "stdout",
     "output_type": "stream",
     "text": [
      "\n",
      "SUCCESS: Specified value was saved.\n"
     ]
    }
   ],
   "source": [
    "! SETX API_KEY \"phi-82A8jaSSnSYQ1dfvaTpK1Id1HsjExB7fMpSFU8Rhebg\""
   ]
  },
  {
   "cell_type": "code",
   "execution_count": 15,
   "id": "5fb2b8d5",
   "metadata": {},
   "outputs": [
    {
     "ename": "AttributeError",
     "evalue": "'Agent' object has no attribute 'client'",
     "output_type": "error",
     "traceback": [
      "\u001b[1;31m---------------------------------------------------------------------------\u001b[0m",
      "\u001b[1;31mAttributeError\u001b[0m                            Traceback (most recent call last)",
      "Cell \u001b[1;32mIn[15], line 1\u001b[0m\n\u001b[1;32m----> 1\u001b[0m \u001b[43mmulti_ai_agent\u001b[49m\u001b[38;5;241;43m.\u001b[39;49m\u001b[43mclient\u001b[49m\u001b[38;5;241m.\u001b[39mapi_key \u001b[38;5;241m=\u001b[39m \u001b[38;5;124m\"\u001b[39m\u001b[38;5;124mphi-82A8jaSSnSYQ1dfvaTpK1Id1HsjExB7fMpSFU8Rhebg\u001b[39m\u001b[38;5;124m\"\u001b[39m\n\u001b[0;32m      3\u001b[0m multi_ai_agent\u001b[38;5;241m.\u001b[39mprint_response(\u001b[38;5;124m\"\u001b[39m\u001b[38;5;124mSummarize analyst recommendationsand share the latest news for NVDA\u001b[39m\u001b[38;5;124m\"\u001b[39m,stream\u001b[38;5;241m=\u001b[39m\u001b[38;5;28;01mTrue\u001b[39;00m)\n",
      "File \u001b[1;32m~\\AppData\\Local\\Programs\\Python\\Python39\\lib\\site-packages\\pydantic\\main.py:896\u001b[0m, in \u001b[0;36mBaseModel.__getattr__\u001b[1;34m(self, item)\u001b[0m\n\u001b[0;32m    893\u001b[0m     \u001b[38;5;28;01mreturn\u001b[39;00m \u001b[38;5;28msuper\u001b[39m()\u001b[38;5;241m.\u001b[39m\u001b[38;5;21m__getattribute__\u001b[39m(item)  \u001b[38;5;66;03m# Raises AttributeError if appropriate\u001b[39;00m\n\u001b[0;32m    894\u001b[0m \u001b[38;5;28;01melse\u001b[39;00m:\n\u001b[0;32m    895\u001b[0m     \u001b[38;5;66;03m# this is the current error\u001b[39;00m\n\u001b[1;32m--> 896\u001b[0m     \u001b[38;5;28;01mraise\u001b[39;00m \u001b[38;5;167;01mAttributeError\u001b[39;00m(\u001b[38;5;124mf\u001b[39m\u001b[38;5;124m'\u001b[39m\u001b[38;5;132;01m{\u001b[39;00m\u001b[38;5;28mtype\u001b[39m(\u001b[38;5;28mself\u001b[39m)\u001b[38;5;241m.\u001b[39m\u001b[38;5;18m__name__\u001b[39m\u001b[38;5;132;01m!r}\u001b[39;00m\u001b[38;5;124m object has no attribute \u001b[39m\u001b[38;5;132;01m{\u001b[39;00mitem\u001b[38;5;132;01m!r}\u001b[39;00m\u001b[38;5;124m'\u001b[39m)\n",
      "\u001b[1;31mAttributeError\u001b[0m: 'Agent' object has no attribute 'client'"
     ]
    }
   ],
   "source": [
    "multi_ai_agent.client.api_key = \"phi-82A8jaSSnSYQ1dfvaTpK1Id1HsjExB7fMpSFU8Rhebg\"\n",
    "\n",
    "multi_ai_agent.print_response(\"Summarize analyst recommendationsand share the latest news for NVDA\",stream=True)"
   ]
  }
 ],
 "metadata": {
  "kernelspec": {
   "display_name": "Python 3 (ipykernel)",
   "language": "python",
   "name": "python3"
  },
  "language_info": {
   "codemirror_mode": {
    "name": "ipython",
    "version": 3
   },
   "file_extension": ".py",
   "mimetype": "text/x-python",
   "name": "python",
   "nbconvert_exporter": "python",
   "pygments_lexer": "ipython3",
   "version": "3.9.13"
  }
 },
 "nbformat": 4,
 "nbformat_minor": 5
}
